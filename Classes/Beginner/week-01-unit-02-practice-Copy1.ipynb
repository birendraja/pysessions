{
 "cells": [
  {
   "cell_type": "markdown",
   "metadata": {},
   "source": [
    "# Practice\n",
    "---"
   ]
  },
  {
   "cell_type": "markdown",
   "metadata": {},
   "source": [
    "**Question**\n",
    "\n",
    "You have fictional home library with books and magazines.\n",
    "\n",
    "- Create a datastructure to organise you library, It should contain\n",
    "    - name\n",
    "    - category [ e.g. Computer Science, Art, Fiction etc ]\n",
    "    - type [ e.g, Book, Magazine etc ]\n",
    "    - tags \n",
    "\n",
    "*Hint: Use datastructures like, list, tuple, set and dictionary*\n",
    "\n",
    "*Hint: nested datastructures can be used*\n",
    "\n",
    "```python\n",
    "\n",
    "# nested example, something like this\n",
    "my_songs = [{\n",
    "    'artist': 'Adele',\n",
    "    'songs': [\n",
    "        {'title': 'Hello', 'genre': ''},\n",
    "        {}\n",
    "    ]\n",
    "},\n",
    "{\n",
    "    'artist': '',\n",
    "    'songs': [\n",
    "        {}, {}\n",
    "    ]\n",
    "}\n",
    "]\n",
    "```"
   ]
  },
  {
   "cell_type": "code",
   "execution_count": 1,
   "metadata": {
    "collapsed": false
   },
   "outputs": [
    {
     "data": {
      "text/plain": [
       "{'artist': 'Adele'}"
      ]
     },
     "execution_count": 1,
     "metadata": {},
     "output_type": "execute_result"
    }
   ],
   "source": [
    "{'artist':'Adele'}"
   ]
  },
  {
   "cell_type": "code",
   "execution_count": 2,
   "metadata": {
    "collapsed": true
   },
   "outputs": [],
   "source": [
    "Book1=[{'name':'Discovery','catetory':'Travel', 'Type':'Magazine', 'Tag':'2010'}]"
   ]
  },
  {
   "cell_type": "code",
   "execution_count": 3,
   "metadata": {
    "collapsed": true
   },
   "outputs": [],
   "source": [
    "Book2=[{'name':'Chronicles of Narina', 'catetory':'Adventure', 'Type':'Novel','Tag':'2012'}]"
   ]
  },
  {
   "cell_type": "code",
   "execution_count": 4,
   "metadata": {
    "collapsed": true
   },
   "outputs": [],
   "source": [
    "output=[Book1, Book2]"
   ]
  },
  {
   "cell_type": "code",
   "execution_count": 5,
   "metadata": {
    "collapsed": false
   },
   "outputs": [
    {
     "data": {
      "text/plain": [
       "[[{'Tag': '2010',\n",
       "   'Type': 'Magazine',\n",
       "   'catetory': 'Travel',\n",
       "   'name': 'Discovery'}],\n",
       " [{'Tag': '2012',\n",
       "   'Type': 'Novel',\n",
       "   'catetory': 'Adventure',\n",
       "   'name': 'Chronicles of Narina'}]]"
      ]
     },
     "execution_count": 5,
     "metadata": {},
     "output_type": "execute_result"
    }
   ],
   "source": [
    "output"
   ]
  },
  {
   "cell_type": "code",
   "execution_count": null,
   "metadata": {
    "collapsed": true
   },
   "outputs": [],
   "source": []
  }
 ],
 "metadata": {
  "anaconda-cloud": {},
  "kernelspec": {
   "display_name": "Python [Root]",
   "language": "python",
   "name": "Python [Root]"
  },
  "language_info": {
   "codemirror_mode": {
    "name": "ipython",
    "version": 3
   },
   "file_extension": ".py",
   "mimetype": "text/x-python",
   "name": "python",
   "nbconvert_exporter": "python",
   "pygments_lexer": "ipython3",
   "version": "3.5.2"
  }
 },
 "nbformat": 4,
 "nbformat_minor": 0
}
